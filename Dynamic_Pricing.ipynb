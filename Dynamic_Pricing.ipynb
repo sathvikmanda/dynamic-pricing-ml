{
  "cells": [
    {
      "cell_type": "code",
      "execution_count": null,
      "metadata": {
        "colab": {
          "base_uri": "https://localhost:8080/"
        },
        "id": "lBMCFRx0Ndl9",
        "outputId": "9bcbe137-131b-408e-9301-c0b56607a9bb"
      },
      "outputs": [],
      "source": [
        "import pandas as pd\n",
        "import plotly.express as px\n",
        "import plotly.graph_objects as go\n",
        "\n",
        "data = pd.read_csv(\"dynamic_pricing.csv\")\n",
        "print(data.head())"
      ]
    },
    {
      "cell_type": "code",
      "execution_count": null,
      "metadata": {
        "colab": {
          "base_uri": "https://localhost:8080/"
        },
        "id": "A-uXyFHTNnof",
        "outputId": "472ebd35-6406-4fca-ca8a-4fa9f721eff4"
      },
      "outputs": [],
      "source": [
        "print(data.describe())"
      ]
    },
    {
      "cell_type": "code",
      "execution_count": null,
      "metadata": {
        "colab": {
          "base_uri": "https://localhost:8080/",
          "height": 467
        },
        "id": "2LRV9UrDNug3",
        "outputId": "c1a87e5f-4dce-4dcf-d6e8-eddc797aa074"
      },
      "outputs": [],
      "source": [
        "data.plot.scatter( x='Expected_Ride_Duration',\n",
        "                 y='Historical_Cost_of_Ride')"
      ]
    },
    {
      "cell_type": "code",
      "execution_count": null,
      "metadata": {
        "colab": {
          "base_uri": "https://localhost:8080/",
          "height": 542
        },
        "id": "QUHaTY4ROd9q",
        "outputId": "43143d24-76e0-4bb4-e876-75ea88ccf8f2"
      },
      "outputs": [],
      "source": [
        "fig = px.box(data, x='Vehicle_Type',\n",
        "             y='Historical_Cost_of_Ride',\n",
        "             title='Historical Cost of Ride Distribution by Vehicle Type')"
      ]
    },
    {
      "cell_type": "code",
      "execution_count": null,
      "metadata": {
        "colab": {
          "base_uri": "https://localhost:8080/",
          "height": 495
        },
        "id": "PfpeEeCYOyXi",
        "outputId": "5210dbd1-a71c-475e-be5e-b5f92896c262"
      },
      "outputs": [],
      "source": [
        "data.boxplot(column='Historical_Cost_of_Ride',\n",
        "             by='Vehicle_Type')"
      ]
    },
    {
      "cell_type": "code",
      "execution_count": null,
      "metadata": {
        "colab": {
          "base_uri": "https://localhost:8080/",
          "height": 542
        },
        "id": "_530Dl9SPYZv",
        "outputId": "73466d90-d664-4cce-b27f-76be90c522d2"
      },
      "outputs": [],
      "source": [
        "corr_matrix = data.corr(numeric_only=True) # Add numeric_only=True to only include numerical columns\n",
        "\n",
        "fig = go.Figure(data=go.Heatmap(z=corr_matrix.values,\n",
        "                                x=corr_matrix.columns,\n",
        "                                y=corr_matrix.columns,\n",
        "                                colorscale='Viridis'))\n",
        "fig.update_layout(title='Correlation Matrix')\n",
        "fig.show()"
      ]
    },
    {
      "cell_type": "code",
      "execution_count": null,
      "metadata": {
        "id": "22pbLBQwPQjC"
      },
      "outputs": [],
      "source": [
        "import numpy as np\n",
        "\n",
        "# Calculate demand_multiplier based on percentile for high and low demand\n",
        "high_demand_percentile = 75\n",
        "low_demand_percentile = 25\n",
        "\n",
        "data['demand_multiplier'] = np.where(data['Number_of_Riders'] > np.percentile(data['Number_of_Riders'], high_demand_percentile),\n",
        "                                     data['Number_of_Riders'] / np.percentile(data['Number_of_Riders'], high_demand_percentile),\n",
        "                                     data['Number_of_Riders'] / np.percentile(data['Number_of_Riders'], low_demand_percentile))\n",
        "\n",
        "# Calculate supply_multiplier based on percentile for high and low supply\n",
        "high_supply_percentile = 75\n",
        "low_supply_percentile = 25\n",
        "\n",
        "data['supply_multiplier'] = np.where(data['Number_of_Drivers'] > np.percentile(data['Number_of_Drivers'], low_supply_percentile),\n",
        "                                     np.percentile(data['Number_of_Drivers'], high_supply_percentile) / data['Number_of_Drivers'],\n",
        "                                     np.percentile(data['Number_of_Drivers'], low_supply_percentile) / data['Number_of_Drivers'])\n",
        "\n",
        "# Define price adjustment factors for high and low demand/supply\n",
        "demand_threshold_high = 1.2  # Higher demand threshold\n",
        "demand_threshold_low = 0.8  # Lower demand threshold\n",
        "supply_threshold_high = 0.8  # Higher supply threshold\n",
        "supply_threshold_low = 1.2  # Lower supply threshold\n",
        "\n",
        "# Calculate adjusted_ride_cost for dynamic pricing\n",
        "data['adjusted_ride_cost'] = data['Historical_Cost_of_Ride'] * (\n",
        "    np.maximum(data['demand_multiplier'], demand_threshold_low) *\n",
        "    np.maximum(data['supply_multiplier'], supply_threshold_high)\n",
        ")"
      ]
    },
    {
      "cell_type": "code",
      "execution_count": null,
      "metadata": {
        "colab": {
          "base_uri": "https://localhost:8080/",
          "height": 542
        },
        "id": "BemOyS5-QbtN",
        "outputId": "61f8882d-68a6-48bf-ea39-c332ee0bf727"
      },
      "outputs": [],
      "source": [
        "data['profit_percentage'] = ((data['adjusted_ride_cost'] - data['Historical_Cost_of_Ride']) / data['Historical_Cost_of_Ride']) * 100\n",
        "# Identify profitable rides where profit percentage is positive\n",
        "profitable_rides = data[data['profit_percentage'] > 0]\n",
        "\n",
        "# Identify loss rides where profit percentage is negative\n",
        "loss_rides = data[data['profit_percentage'] < 0]\n",
        "\n",
        "\n",
        "import plotly.graph_objects as go\n",
        "\n",
        "# Calculate the count of profitable and loss rides\n",
        "profitable_count = len(profitable_rides)\n",
        "loss_count = len(loss_rides)\n",
        "\n",
        "# Create a donut chart to show the distribution of profitable and loss rides\n",
        "labels = ['Profitable Rides', 'Loss Rides']\n",
        "values = [profitable_count, loss_count]\n",
        "\n",
        "fig = go.Figure(data=[go.Pie(labels=labels, values=values, hole=0.4)])\n",
        "fig.update_layout(title='Profitability of Rides (Dynamic Pricing vs. Historical Pricing)')\n",
        "fig.show()"
      ]
    },
    {
      "cell_type": "code",
      "execution_count": null,
      "metadata": {
        "colab": {
          "base_uri": "https://localhost:8080/",
          "height": 542
        },
        "id": "TZNA5J7AQfGp",
        "outputId": "8a22507b-71b3-445e-8f04-7f2335db6a64"
      },
      "outputs": [],
      "source": [
        "fig = px.scatter(data,\n",
        "                 x='Expected_Ride_Duration',\n",
        "                 y='adjusted_ride_cost',\n",
        "                 title='Expected Ride Duration vs. Cost of Ride',\n",
        "                 trendline='ols')\n",
        "fig.show()"
      ]
    },
    {
      "cell_type": "code",
      "execution_count": null,
      "metadata": {
        "id": "loUBSAdBQmMu"
      },
      "outputs": [],
      "source": [
        "import pandas as pd\n",
        "import numpy as np\n",
        "from sklearn.preprocessing import StandardScaler\n",
        "\n",
        "def data_preprocessing_pipeline(data):\n",
        "    #Identify numeric and categorical features\n",
        "    numeric_features = data.select_dtypes(include=['float', 'int']).columns\n",
        "    categorical_features = data.select_dtypes(include=['object']).columns\n",
        "\n",
        "    #Handle missing values in numeric features\n",
        "    data[numeric_features] = data[numeric_features].fillna(data[numeric_features].mean())\n",
        "\n",
        "    #Detect and handle outliers in numeric features using IQR\n",
        "    for feature in numeric_features:\n",
        "        Q1 = data[feature].quantile(0.25)\n",
        "        Q3 = data[feature].quantile(0.75)\n",
        "        IQR = Q3 - Q1\n",
        "        lower_bound = Q1 - (1.5 * IQR)\n",
        "        upper_bound = Q3 + (1.5 * IQR)\n",
        "        data[feature] = np.where((data[feature] < lower_bound) | (data[feature] > upper_bound),\n",
        "                                 data[feature].mean(), data[feature])\n",
        "\n",
        "    #Handle missing values in categorical features\n",
        "    data[categorical_features] = data[categorical_features].fillna(data[categorical_features].mode().iloc[0])\n",
        "\n",
        "    return data"
      ]
    },
    {
      "cell_type": "code",
      "execution_count": null,
      "metadata": {
        "id": "dxaoeXS-Q1ZV"
      },
      "outputs": [],
      "source": [
        "data[\"Vehicle_Type\"] = data[\"Vehicle_Type\"].map({\"Premium\": 1,\n",
        "                                           \"Economy\": 0})"
      ]
    },
    {
      "cell_type": "code",
      "execution_count": null,
      "metadata": {
        "colab": {
          "base_uri": "https://localhost:8080/",
          "height": 80
        },
        "id": "uLCVviR9Q40V",
        "outputId": "ec11c4d4-55c2-43fe-ecca-7e3d664b89a9"
      },
      "outputs": [],
      "source": [
        "from sklearn.model_selection import train_test_split\n",
        "x = np.array(data[[\"Number_of_Riders\", \"Number_of_Drivers\", \"Vehicle_Type\", \"Expected_Ride_Duration\"]])\n",
        "y = np.array(data[[\"adjusted_ride_cost\"]])\n",
        "\n",
        "x_train, x_test, y_train, y_test = train_test_split(x,\n",
        "                                                    y,\n",
        "                                                    test_size=0.2,\n",
        "                                                    random_state=42)\n",
        "\n",
        "# Reshape y to 1D array\n",
        "y_train = y_train.ravel()\n",
        "y_test = y_test.ravel()\n",
        "\n",
        "# Training a random forest regression model\n",
        "from sklearn.ensemble import RandomForestRegressor\n",
        "model = RandomForestRegressor()\n",
        "model.fit(x_train, y_train)"
      ]
    },
    {
      "cell_type": "code",
      "execution_count": null,
      "metadata": {
        "colab": {
          "base_uri": "https://localhost:8080/"
        },
        "id": "GPef9Hd9Q7zl",
        "outputId": "d5648a83-bc7d-491c-d26b-73d833f2a654"
      },
      "outputs": [],
      "source": [
        "def get_vehicle_type_numeric(vehicle_type):\n",
        "    vehicle_type_mapping = {\n",
        "        \"Premium\": 1,\n",
        "        \"Economy\": 0\n",
        "    }\n",
        "    vehicle_type_numeric = vehicle_type_mapping.get(vehicle_type)\n",
        "    return vehicle_type_numeric\n",
        "\n",
        "# Predicting using user input values\n",
        "def predict_price(number_of_riders, number_of_drivers, vehicle_type, Expected_Ride_Duration):\n",
        "    vehicle_type_numeric = get_vehicle_type_numeric(vehicle_type)\n",
        "    if vehicle_type_numeric is None:\n",
        "        raise ValueError(\"Invalid vehicle type\")\n",
        "\n",
        "    input_data = np.array([[number_of_riders, number_of_drivers, vehicle_type_numeric, Expected_Ride_Duration]])\n",
        "    predicted_price = model.predict(input_data)\n",
        "    return predicted_price\n",
        "\n",
        "# Example prediction using user input values\n",
        "user_number_of_riders = 50\n",
        "user_number_of_drivers = 25\n",
        "user_vehicle_type = \"Economy\"\n",
        "Expected_Ride_Duration = 30\n",
        "predicted_price = predict_price(user_number_of_riders, user_number_of_drivers, user_vehicle_type, Expected_Ride_Duration)\n",
        "print(\"Predicted price:\", predicted_price)"
      ]
    },
    {
      "cell_type": "code",
      "execution_count": null,
      "metadata": {
        "colab": {
          "base_uri": "https://localhost:8080/",
          "height": 542
        },
        "id": "XinvB0ygRBsf",
        "outputId": "72769f34-a759-4d19-d501-535d1fb17426"
      },
      "outputs": [],
      "source": [
        "import plotly.graph_objects as go\n",
        "\n",
        "# Predict on the test set\n",
        "y_pred = model.predict(x_test)\n",
        "\n",
        "# Create a scatter plot with actual vs predicted values\n",
        "fig = go.Figure()\n",
        "\n",
        "fig.add_trace(go.Scatter(\n",
        "    x=y_test.flatten(),\n",
        "    y=y_pred,\n",
        "    mode='markers',\n",
        "    name='Actual vs Predicted'\n",
        "))\n",
        "\n",
        "# Add a line representing the ideal case\n",
        "fig.add_trace(go.Scatter(\n",
        "    x=[min(y_test.flatten()), max(y_test.flatten())],\n",
        "    y=[min(y_test.flatten()), max(y_test.flatten())],\n",
        "    mode='lines',\n",
        "    name='Ideal',\n",
        "    line=dict(color='red', dash='dash')\n",
        "))\n",
        "\n",
        "fig.update_layout(\n",
        "    title='Actual vs Predicted Values',\n",
        "    xaxis_title='Actual Values',\n",
        "    yaxis_title='Predicted Values',\n",
        "    showlegend=True,\n",
        ")\n",
        "\n",
        "fig.show()"
      ]
    },
    {
      "cell_type": "code",
      "execution_count": null,
      "metadata": {
        "id": "RXANM_9sRII9"
      },
      "outputs": [],
      "source": []
    }
  ],
  "metadata": {
    "colab": {
      "provenance": []
    },
    "kernelspec": {
      "display_name": "Python 3",
      "name": "python3"
    },
    "language_info": {
      "name": "python"
    }
  },
  "nbformat": 4,
  "nbformat_minor": 0
}
